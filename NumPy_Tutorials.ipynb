{
 "cells": [
  {
   "cell_type": "markdown",
   "id": "b766a99f",
   "metadata": {},
   "source": [
    "# Installation of numpy & Jupyter Notebook"
   ]
  },
  {
   "cell_type": "code",
   "execution_count": null,
   "id": "7d8ba16d",
   "metadata": {},
   "outputs": [],
   "source": [
    "# to install numpy--> pip install numpy\n",
    "# to install jupyter notebook --> pip install jupyter\n",
    "\n",
    "# to open that folder --> go to the folder location in command prompt --> jupyter notebook"
   ]
  },
  {
   "cell_type": "code",
   "execution_count": 1,
   "id": "f7e8ab9f",
   "metadata": {},
   "outputs": [
    {
     "name": "stdout",
     "output_type": "stream",
     "text": [
      "1.22.3\n"
     ]
    }
   ],
   "source": [
    "# to check version of numpy\n",
    "# as refers to alias which means it allows alternet name to refer same thing.\n",
    "\n",
    "import numpy as np\n",
    "\n",
    "print(np.__version__)"
   ]
  },
  {
   "cell_type": "markdown",
   "id": "0d54a1ee",
   "metadata": {},
   "source": [
    "# Array Creation numpy"
   ]
  },
  {
   "cell_type": "code",
   "execution_count": 2,
   "id": "658442e6",
   "metadata": {},
   "outputs": [
    {
     "name": "stdout",
     "output_type": "stream",
     "text": [
      "[10 20 30 50 60]\n",
      "<class 'numpy.ndarray'>\n"
     ]
    }
   ],
   "source": [
    "#creating arrays\n",
    "\n",
    "import numpy as np\n",
    "\n",
    "arr = np.array([10,20,30,50,60])\n",
    "#arr = np.array((1,2,3,4,5))\n",
    "\n",
    "print(arr)\n",
    "print(type(arr))  #print the type of object passed in it"
   ]
  },
  {
   "cell_type": "code",
   "execution_count": 4,
   "id": "d7246a39",
   "metadata": {},
   "outputs": [
    {
     "name": "stdout",
     "output_type": "stream",
     "text": [
      "20\n",
      "[1 2 3 4]\n",
      "[[1 2 3 4]\n",
      " [5 6 7 8]]\n",
      "[[[ 1  2  3]\n",
      "  [ 4  5  6]]\n",
      "\n",
      " [[10 20 30]\n",
      "  [40 50 60]]]\n"
     ]
    }
   ],
   "source": [
    "#array dimensions\n",
    "# 1. 0-D array \n",
    "# 2. 1-D array \n",
    "# 3. 2-D array \n",
    "# 4. 3-D array \n",
    "\n",
    "arr0 = np.array(20)\n",
    "arr1 = np.array([1,2,3,4])\n",
    "arr2 = np.array([[1,2,3,4],[5,6,7,8]])\n",
    "arr3 = np.array([  [[1,2,3],[4,5,6]],[[10,20,30],[40,50,60]]  ])\n",
    "\n",
    "print(arr0)\n",
    "print(arr1)\n",
    "print(arr2)\n",
    "print(arr3)"
   ]
  },
  {
   "cell_type": "code",
   "execution_count": 6,
   "id": "7320d83b",
   "metadata": {},
   "outputs": [
    {
     "name": "stdout",
     "output_type": "stream",
     "text": [
      "0\n",
      "1\n",
      "2\n",
      "3\n"
     ]
    }
   ],
   "source": [
    "#to check dimension of array we use ndim attributes\n",
    "\n",
    "print(arr0.ndim)\n",
    "print(arr1.ndim)\n",
    "print(arr2.ndim)\n",
    "print(arr3.ndim)"
   ]
  },
  {
   "cell_type": "markdown",
   "id": "1c9e67e7",
   "metadata": {},
   "source": [
    "# Accessing items"
   ]
  },
  {
   "cell_type": "code",
   "execution_count": 7,
   "id": "254defa3",
   "metadata": {},
   "outputs": [
    {
     "name": "stdout",
     "output_type": "stream",
     "text": [
      "3\n"
     ]
    }
   ],
   "source": [
    "#Accessing array elements\n",
    "\n",
    "arr1 = np.array([1,2,3,4])\n",
    "\n",
    "print(arr1[2]) # to print 3rd element"
   ]
  },
  {
   "cell_type": "code",
   "execution_count": 12,
   "id": "160b0430",
   "metadata": {},
   "outputs": [
    {
     "name": "stdout",
     "output_type": "stream",
     "text": [
      "8\n",
      "using negative index  8\n"
     ]
    }
   ],
   "source": [
    "# Accessing elements in 2-D array\n",
    "# print last element of 2nd array\n",
    "arr2 = np.array([[1,2,3,4],[5,6,7,8]])\n",
    "\n",
    "print(arr2[1,3]) \n",
    "\n",
    "#using negative index\n",
    "\n",
    "print(\"using negative index \",arr2[-1,-1])\n"
   ]
  },
  {
   "cell_type": "code",
   "execution_count": 23,
   "id": "eb744c03",
   "metadata": {},
   "outputs": [
    {
     "name": "stdout",
     "output_type": "stream",
     "text": [
      "30\n",
      "using negative index  30\n",
      "Slicing  [10 20]\n"
     ]
    }
   ],
   "source": [
    "# Accessing elements in 3-D array\n",
    "# print third element of the second array of the first array:\n",
    "\n",
    "arr3 = np.array([  [[1,2,3],[4,5,6]]  ,  [[10,20,30],[40,50,60]]  ])\n",
    "\n",
    "print(arr3[1,0,2])\n",
    "\n",
    "#using negative index\n",
    "\n",
    "print(\"using negative index \",arr3[-1,-2,-1])\n",
    "\n",
    "#slicing\n",
    "print(\"Slicing \",arr3[1,0,0:2])\n"
   ]
  },
  {
   "cell_type": "markdown",
   "id": "74d2f173",
   "metadata": {},
   "source": [
    "# Slicing"
   ]
  },
  {
   "cell_type": "code",
   "execution_count": 21,
   "id": "9928d9a5",
   "metadata": {},
   "outputs": [
    {
     "name": "stdout",
     "output_type": "stream",
     "text": [
      "[6 7 8]\n",
      "Slicing using negative index  [1 2 3]\n"
     ]
    }
   ],
   "source": [
    "# Array slicing\n",
    "\n",
    "# slice --> [start:end] --> in that case step is consider as 1 by default\n",
    "# [start:end:step] --> if need to apply step\n",
    "\n",
    "arr = np.array([[1,2,3,4],[5,6,7,8]])\n",
    "\n",
    "print(arr[1,1:4])\n",
    "\n",
    "print(\"Slicing using negative index \",arr[-2,-4:-1])"
   ]
  },
  {
   "cell_type": "code",
   "execution_count": 27,
   "id": "c56b99da",
   "metadata": {},
   "outputs": [
    {
     "name": "stdout",
     "output_type": "stream",
     "text": [
      "int32\n",
      "[[ 1  2  3  4]\n",
      " [12  6  7  8]]\n"
     ]
    }
   ],
   "source": [
    "# to check the data type of array --> dtype\n",
    "\n",
    "arr = np.array([[1,2,3,4],[5,6,7,8]])\n",
    "\n",
    "print(arr.dtype)\n",
    "\n",
    "#adding element in the second array\n",
    "arr[1,0] = 12\n",
    "print(arr)"
   ]
  },
  {
   "cell_type": "markdown",
   "id": "d0863180",
   "metadata": {},
   "source": [
    "# Copy vs. View"
   ]
  },
  {
   "cell_type": "code",
   "execution_count": 30,
   "id": "948bcee0",
   "metadata": {},
   "outputs": [
    {
     "name": "stdout",
     "output_type": "stream",
     "text": [
      "[45  2  3  4]\n",
      "[45  2  3  4]\n"
     ]
    }
   ],
   "source": [
    "# Copy vs. View\n",
    "#copy --> create a new copy of array\n",
    "#view --> its just a view of original array\n",
    "\n",
    "arr = np.array([1,2,3,4])\n",
    "#x = arr.copy()\n",
    "x = arr.view()\n",
    "\n",
    "arr[0] = 45\n",
    "\n",
    "print(arr)\n",
    "print(x)"
   ]
  },
  {
   "cell_type": "markdown",
   "id": "5d7f6b81",
   "metadata": {},
   "source": [
    "# Array Shape"
   ]
  },
  {
   "cell_type": "code",
   "execution_count": 31,
   "id": "dd85c088",
   "metadata": {},
   "outputs": [
    {
     "name": "stdout",
     "output_type": "stream",
     "text": [
      "(2, 4)\n"
     ]
    }
   ],
   "source": [
    "# Array shape\n",
    "# to find the shape of array we use shape attribute method\n",
    "\n",
    "arr_s = np.array([[1,2,3,4],[5,6,7,8]])\n",
    "print(arr_s.shape)\n"
   ]
  },
  {
   "cell_type": "markdown",
   "id": "c6cc7fea",
   "metadata": {},
   "source": [
    "# Reshape"
   ]
  },
  {
   "cell_type": "code",
   "execution_count": 32,
   "id": "a7f18c85",
   "metadata": {},
   "outputs": [
    {
     "name": "stdout",
     "output_type": "stream",
     "text": [
      "[[ 1  2  3]\n",
      " [ 4  5  6]\n",
      " [ 7  8  9]\n",
      " [10 11 12]]\n"
     ]
    }
   ],
   "source": [
    "# Array Reshape\n",
    "# it means changing the shape of array\n",
    "\n",
    "array1 = np.array([1,2,3,4,5,6,7,8,9,10,11,12])\n",
    "newarr = array1.reshape(4,3) #reshape\n",
    "print(newarr)"
   ]
  },
  {
   "cell_type": "markdown",
   "id": "9d842789",
   "metadata": {},
   "source": [
    "# Array Iteration"
   ]
  },
  {
   "cell_type": "code",
   "execution_count": 5,
   "id": "bdc9bd0f",
   "metadata": {},
   "outputs": [
    {
     "name": "stdout",
     "output_type": "stream",
     "text": [
      "1 2 3 4 "
     ]
    }
   ],
   "source": [
    "# Iterating array\n",
    "import numpy as np\n",
    "\n",
    "arr1 = np.array([1,2,3,4]) # 1-D array\n",
    "\n",
    "for x in arr1:\n",
    "    print(x ,end=\" \")"
   ]
  },
  {
   "cell_type": "code",
   "execution_count": 6,
   "id": "acfcc0e5",
   "metadata": {},
   "outputs": [
    {
     "name": "stdout",
     "output_type": "stream",
     "text": [
      "1\n",
      "2\n",
      "3\n",
      "4\n",
      "5\n",
      "6\n",
      "7\n",
      "8\n"
     ]
    }
   ],
   "source": [
    "arr2 = np.array([[1,2,3,4],[5,6,7,8]]) # 2-D array\n",
    "\n",
    "for x in arr2:\n",
    "    for y in x:\n",
    "        print(y)"
   ]
  },
  {
   "cell_type": "code",
   "execution_count": 7,
   "id": "2c3f401a",
   "metadata": {},
   "outputs": [
    {
     "name": "stdout",
     "output_type": "stream",
     "text": [
      "1\n",
      "2\n",
      "3\n",
      "4\n",
      "5\n",
      "6\n",
      "10\n",
      "20\n",
      "30\n",
      "40\n",
      "50\n",
      "60\n"
     ]
    }
   ],
   "source": [
    "arr3 = np.array([  [[1,2,3],[4,5,6]],[[10,20,30],[40,50,60]]  ]) # 3-D array\n",
    "\n",
    "for x in arr3:\n",
    "    for y in x:\n",
    "        for z in y:\n",
    "            print(z)"
   ]
  },
  {
   "cell_type": "code",
   "execution_count": 8,
   "id": "460eb47b",
   "metadata": {},
   "outputs": [
    {
     "name": "stdout",
     "output_type": "stream",
     "text": [
      "1\n",
      "2\n",
      "3\n",
      "4\n",
      "5\n",
      "6\n",
      "10\n",
      "20\n",
      "30\n",
      "40\n",
      "50\n",
      "60\n"
     ]
    }
   ],
   "source": [
    "# we can use nditer() method as well.\n",
    "\n",
    "arr3 = np.array([  [[1,2,3],[4,5,6]],[[10,20,30],[40,50,60]]  ]) # 3-D array\n",
    "\n",
    "for x in np.nditer(arr3):\n",
    "    print(x)\n"
   ]
  },
  {
   "cell_type": "markdown",
   "id": "11372b16",
   "metadata": {},
   "source": [
    "# Array Join"
   ]
  },
  {
   "cell_type": "code",
   "execution_count": 11,
   "id": "32a113b6",
   "metadata": {},
   "outputs": [
    {
     "name": "stdout",
     "output_type": "stream",
     "text": [
      "[1 2 3 4 5 6 7 8]\n"
     ]
    }
   ],
   "source": [
    "# Join --> merging two array\n",
    "# we can use concatenate() or stack() function to join two array\n",
    "\n",
    "#join 1-D array\n",
    "a1 = np.array([1,2,3,4])\n",
    "a2 = np.array([5,6,7,8])\n",
    "\n",
    "newarr = np.concatenate((a1,a2))\n",
    "print(newarr)"
   ]
  },
  {
   "cell_type": "code",
   "execution_count": 18,
   "id": "619823f4",
   "metadata": {},
   "outputs": [
    {
     "name": "stdout",
     "output_type": "stream",
     "text": [
      "[[[ 1  2  3  4]\n",
      "  [ 5  6  7  8]]\n",
      "\n",
      " [[ 9 10 11 12]\n",
      "  [13 14 15 16]]]\n"
     ]
    }
   ],
   "source": [
    "#join 2-D array\n",
    "\n",
    "ar1 = np.array([[1,2,3,4],[5,6,7,8]])\n",
    "ar2 = np.array([[9,10,11,12],[13,14,15,16]])\n",
    "\n",
    "newarr1= np.concatenate((ar1,ar2) ,axis=1)\n",
    "#print(newarr1)\n",
    "\n",
    "#using stack function\n",
    "newarr2 = np.stack((ar1,ar2))\n",
    "print(newarr2)\n"
   ]
  },
  {
   "cell_type": "markdown",
   "id": "bf3f642f",
   "metadata": {},
   "source": [
    "# Array Split"
   ]
  },
  {
   "cell_type": "code",
   "execution_count": 21,
   "id": "0112ae76",
   "metadata": {},
   "outputs": [
    {
     "name": "stdout",
     "output_type": "stream",
     "text": [
      "[array([[ 9, 10, 11, 12]]), array([[13, 14, 15, 16]]), array([], shape=(0, 4), dtype=int32), array([], shape=(0, 4), dtype=int32)]\n"
     ]
    }
   ],
   "source": [
    "# split array--> dividing array into multiple arrays\n",
    "\n",
    "ar2 = np.array([[9,10,11,12],[13,14,15,16]])\n",
    "\n",
    "new_arr = np.array_split(ar2,4)\n",
    "print(new_arr)"
   ]
  },
  {
   "cell_type": "markdown",
   "id": "b03bd9e6",
   "metadata": {},
   "source": [
    "# Array Search"
   ]
  },
  {
   "cell_type": "code",
   "execution_count": 26,
   "id": "c564cd08",
   "metadata": {},
   "outputs": [
    {
     "name": "stdout",
     "output_type": "stream",
     "text": [
      "(array([3, 6, 9], dtype=int64),)\n",
      "int32\n",
      "[1 1 2 3 3 4 4 4 5 5]\n"
     ]
    }
   ],
   "source": [
    "# array search--> which returns the index number of perticular items\n",
    "\n",
    "import numpy as np\n",
    "\n",
    "arr = np.array([1,1,2,4,5,3,4,5,3,4])\n",
    "\n",
    "x = np.where(arr==4)\n",
    "print(x)\n",
    "print(arr.dtype)\n",
    "\n",
    "\n",
    "\n",
    "#to sort array we use sort() method\n",
    "y = np.sort(arr)\n",
    "print(y)"
   ]
  }
 ],
 "metadata": {
  "kernelspec": {
   "display_name": "Python 3 (ipykernel)",
   "language": "python",
   "name": "python3"
  },
  "language_info": {
   "codemirror_mode": {
    "name": "ipython",
    "version": 3
   },
   "file_extension": ".py",
   "mimetype": "text/x-python",
   "name": "python",
   "nbconvert_exporter": "python",
   "pygments_lexer": "ipython3",
   "version": "3.10.0"
  }
 },
 "nbformat": 4,
 "nbformat_minor": 5
}
